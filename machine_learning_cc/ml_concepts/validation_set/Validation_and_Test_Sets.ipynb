{
  "cells": [
    {
      "cell_type": "code",
      "execution_count": 1,
      "metadata": {
        "cellView": "form",
        "id": "hMqWDc_m6rUC"
      },
      "outputs": [],
      "source": [
        "#@title Copyright 2020 Google LLC. Double-click here for license information.\n",
        "# Licensed under the Apache License, Version 2.0 (the \"License\");\n",
        "# you may not use this file except in compliance with the License.\n",
        "# You may obtain a copy of the License at\n",
        "#\n",
        "# https://www.apache.org/licenses/LICENSE-2.0\n",
        "#\n",
        "# Unless required by applicable law or agreed to in writing, software\n",
        "# distributed under the License is distributed on an \"AS IS\" BASIS,\n",
        "# WITHOUT WARRANTIES OR CONDITIONS OF ANY KIND, either express or implied.\n",
        "# See the License for the specific language governing permissions and\n",
        "# limitations under the License."
      ]
    },
    {
      "cell_type": "markdown",
      "metadata": {
        "id": "4f3CKqFUqL2-"
      },
      "source": [
        "# Validation Sets and Test Sets\n",
        "\n",
        "The previous Colab exercises evaluated the trained model against the training set, which does not provide a strong signal about the quality of your model. In this Colab, you'll experiment with validation sets and test sets.\n",
        "\n",
        "\n",
        "\n",
        "\n"
      ]
    },
    {
      "cell_type": "markdown",
      "metadata": {
        "id": "3spZH_kNkWWX"
      },
      "source": [
        "## Learning objectives\n",
        "\n",
        "After doing this Colab, you'll know how to do the following:\n",
        "\n",
        "  * Split a [training set](https://developers.google.com/machine-learning/glossary/#training_set) into a smaller training set and a [validation set](https://developers.google.com/machine-learning/glossary/#validation_set).\n",
        "  * Analyze deltas between training set and validation set results.\n",
        "  * Test the trained model with a [test set](https://developers.google.com/machine-learning/glossary/#test_set) to determine whether your trained model is [overfitting](https://developers.google.com/machine-learning/glossary/#overfitting).\n",
        "  * Detect and fix a common training problem."
      ]
    },
    {
      "cell_type": "markdown",
      "metadata": {
        "id": "gV82DJO3kWpk"
      },
      "source": [
        "## The dataset\n",
        "\n",
        "As in the previous exercise, this exercise uses the [California Housing dataset](https://developers.google.com/machine-learning/crash-course/california-housing-data-description) to predict the `median_house_value` at the city block level.  Like many \"famous\" datasets, the California Housing Dataset actually consists of two separate datasets, each living in separate .csv files:\n",
        "\n",
        "* The training set is in `california_housing_train.csv`.\n",
        "* The test set is in `california_housing_test.csv`.\n",
        "\n",
        "You'll create the validation set by dividing the downloaded training set into two parts:\n",
        "\n",
        "* a smaller training set  \n",
        "* a validation set"
      ]
    },
    {
      "cell_type": "markdown",
      "metadata": {
        "id": "u84mXopntPFZ"
      },
      "source": [
        "## Use the right version of TensorFlow\n",
        "\n",
        "The following hidden code cell ensures that the Colab will run on TensorFlow 2.X."
      ]
    },
    {
      "cell_type": "code",
      "execution_count": 1,
      "metadata": {
        "cellView": "form",
        "id": "FBhNIdUatOU6"
      },
      "outputs": [
        {
          "name": "stderr",
          "output_type": "stream",
          "text": [
            "UsageError: Line magic function `%tensorflow_version` not found.\n"
          ]
        }
      ],
      "source": [
        "#@title Run on TensorFlow 2.x\n",
        "%tensorflow_version 2.x"
      ]
    },
    {
      "cell_type": "markdown",
      "metadata": {
        "id": "S8gm6BpqRRuh"
      },
      "source": [
        "## Import relevant modules\n",
        "\n",
        "As before, this first code cell imports the necessary modules and sets a few display options."
      ]
    },
    {
      "cell_type": "code",
      "execution_count": 2,
      "metadata": {
        "cellView": "form",
        "id": "9D8GgUovHbG0"
      },
      "outputs": [],
      "source": [
        "#@title Import modules\n",
        "import numpy as np\n",
        "import pandas as pd\n",
        "import tensorflow as tf\n",
        "from matplotlib import pyplot as plt\n",
        "\n",
        "pd.options.display.max_rows = 10\n",
        "pd.options.display.float_format = \"{:.1f}\".format"
      ]
    },
    {
      "cell_type": "markdown",
      "metadata": {
        "id": "xjvrrClQeAJu"
      },
      "source": [
        "## Load the datasets from the internet\n",
        "\n",
        "The following code cell loads the separate .csv files and creates the following two pandas DataFrames:\n",
        "\n",
        "* `train_df`, which contains the training set.\n",
        "* `test_df`, which contains the test set.\n",
        "\n"
      ]
    },
    {
      "cell_type": "code",
      "execution_count": 3,
      "metadata": {
        "id": "zUnTc_wfd_o3"
      },
      "outputs": [],
      "source": [
        "train_df = pd.read_csv(\"https://download.mlcc.google.com/mledu-datasets/california_housing_train.csv\")\n",
        "test_df = pd.read_csv(\"https://download.mlcc.google.com/mledu-datasets/california_housing_test.csv\")"
      ]
    },
    {
      "cell_type": "markdown",
      "metadata": {
        "id": "P_KBdj2M_yjM"
      },
      "source": [
        "## Scale the label values\n",
        "\n",
        "The following code cell scales the `median_house_value`. \n",
        "See the previous Colab exercise for details."
      ]
    },
    {
      "cell_type": "code",
      "execution_count": 4,
      "metadata": {
        "id": "3hc7QQhaAFXD"
      },
      "outputs": [],
      "source": [
        "scale_factor = 1000.0\n",
        "\n",
        "# Scale the training set's label.\n",
        "train_df[\"median_house_value\"] /= scale_factor \n",
        "\n",
        "# Scale the test set's label\n",
        "test_df[\"median_house_value\"] /= scale_factor"
      ]
    },
    {
      "cell_type": "markdown",
      "metadata": {
        "id": "FhessIIV8VPc"
      },
      "source": [
        "## Load the functions that build and train a model\n",
        "\n",
        "The following code cell defines two functions:\n",
        "\n",
        "  * `build_model`, which defines the model's topography.\n",
        "  * `train_model`, which will ultimately train the model, outputting not only the loss value for the training set but also the loss value for the validation set. \n",
        "\n",
        "Since you don't need to understand model building code right now, we've hidden this code cell. As always, you must run hidden code cells."
      ]
    },
    {
      "cell_type": "code",
      "execution_count": 5,
      "metadata": {
        "cellView": "form",
        "id": "bvonhK857msj"
      },
      "outputs": [
        {
          "name": "stdout",
          "output_type": "stream",
          "text": [
            "Defined the build_model and train_model functions.\n"
          ]
        }
      ],
      "source": [
        "#@title Define the functions that build and train a model\n",
        "def build_model(my_learning_rate):\n",
        "  \"\"\"Create and compile a simple linear regression model.\"\"\"\n",
        "  # Most simple tf.keras models are sequential.\n",
        "  model = tf.keras.models.Sequential()\n",
        "\n",
        "  # Add one linear layer to the model to yield a simple linear regressor.\n",
        "  model.add(tf.keras.layers.Dense(units=1, input_shape=(1,)))\n",
        "\n",
        "  # Compile the model topography into code that TensorFlow can efficiently\n",
        "  # execute. Configure training to minimize the model's mean squared error. \n",
        "  model.compile(optimizer=tf.keras.optimizers.RMSprop(lr=my_learning_rate),\n",
        "                loss=\"mean_squared_error\",\n",
        "                metrics=[tf.keras.metrics.RootMeanSquaredError()])\n",
        "\n",
        "  return model               \n",
        "\n",
        "\n",
        "def train_model(model, df, feature, label, my_epochs, \n",
        "                my_batch_size=None, my_validation_split=0.1):\n",
        "  \"\"\"Feed a dataset into the model in order to train it.\"\"\"\n",
        "\n",
        "  history = model.fit(x=df[feature],\n",
        "                      y=df[label],\n",
        "                      batch_size=my_batch_size,\n",
        "                      epochs=my_epochs,\n",
        "                      validation_split=my_validation_split)\n",
        "\n",
        "  # Gather the model's trained weight and bias.\n",
        "  trained_weight = model.get_weights()[0]\n",
        "  trained_bias = model.get_weights()[1]\n",
        "\n",
        "  # The list of epochs is stored separately from the \n",
        "  # rest of history.\n",
        "  epochs = history.epoch\n",
        "  \n",
        "  # Isolate the root mean squared error for each epoch.\n",
        "  hist = pd.DataFrame(history.history)\n",
        "  rmse = hist[\"root_mean_squared_error\"]\n",
        "\n",
        "  return epochs, rmse, history.history   \n",
        "\n",
        "print(\"Defined the build_model and train_model functions.\")"
      ]
    },
    {
      "cell_type": "markdown",
      "metadata": {
        "id": "8gRu4Ri0D8tH"
      },
      "source": [
        "## Define plotting functions\n",
        "\n",
        "The `plot_the_loss_curve` function plots loss vs. epochs for both the training set and the validation set."
      ]
    },
    {
      "cell_type": "code",
      "execution_count": 6,
      "metadata": {
        "cellView": "form",
        "id": "QA7hsqPZDvVM"
      },
      "outputs": [
        {
          "name": "stdout",
          "output_type": "stream",
          "text": [
            "Defined the plot_the_loss_curve function.\n"
          ]
        }
      ],
      "source": [
        "#@title Define the plotting function\n",
        "\n",
        "def plot_the_loss_curve(epochs, mae_training, mae_validation):\n",
        "  \"\"\"Plot a curve of loss vs. epoch.\"\"\"\n",
        "\n",
        "  plt.figure()\n",
        "  plt.xlabel(\"Epoch\")\n",
        "  plt.ylabel(\"Root Mean Squared Error\")\n",
        "\n",
        "  plt.plot(epochs[1:], mae_training[1:], label=\"Training Loss\")\n",
        "  plt.plot(epochs[1:], mae_validation[1:], label=\"Validation Loss\")\n",
        "  plt.legend()\n",
        "  \n",
        "  # We're not going to plot the first epoch, since the loss on the first epoch\n",
        "  # is often substantially greater than the loss for other epochs.\n",
        "  merged_mae_lists = mae_training[1:] + mae_validation[1:]\n",
        "  highest_loss = max(merged_mae_lists)\n",
        "  lowest_loss = min(merged_mae_lists)\n",
        "  delta = highest_loss - lowest_loss\n",
        "  print(delta)\n",
        "\n",
        "  top_of_y_axis = highest_loss + (delta * 0.05)\n",
        "  bottom_of_y_axis = lowest_loss - (delta * 0.05)\n",
        "   \n",
        "  plt.ylim([bottom_of_y_axis, top_of_y_axis])\n",
        "  plt.show()  \n",
        "\n",
        "print(\"Defined the plot_the_loss_curve function.\")"
      ]
    },
    {
      "cell_type": "markdown",
      "metadata": {
        "id": "jipBqEQXlsN8"
      },
      "source": [
        "## Task 1: Experiment with the validation split\n",
        "\n",
        "In the following code cell, you'll see a variable named `validation_split`, which we've initialized at 0.2.  The `validation_split` variable specifies the proportion of the original training set that will serve as the validation set. The original training set contains 17,000 examples. Therefore, a `validation_split` of 0.2 means that:\n",
        "\n",
        "* 17,000 * 0.2 ~= 3,400 examples will become the validation set.\n",
        "* 17,000 * 0.8 ~= 13,600 examples will become the new training set.\n",
        "\n",
        "The following code builds a model, trains it on the training set, and evaluates the built model on both:\n",
        "\n",
        "* The training set.\n",
        "* And the validation set.\n",
        "\n",
        "If the data in the training set is similar to the data in the validation set, then the two loss curves and the final loss values should be almost identical. However, the loss curves and final loss values are **not** almost identical. Hmm, that's odd.  \n",
        "\n",
        "Experiment with two or three different values of `validation_split`.  Do different values of `validation_split` fix the problem? \n"
      ]
    },
    {
      "cell_type": "code",
      "execution_count": 9,
      "metadata": {
        "id": "knP23Taoa00a"
      },
      "outputs": [
        {
          "name": "stdout",
          "output_type": "stream",
          "text": [
            "WARNING:tensorflow:Falling back from v2 loop because of error: Failed to find data adapter that can handle input: <class 'pandas.core.series.Series'>, <class 'NoneType'>\n",
            "Train on 12750 samples, validate on 4250 samples\n",
            "Epoch 1/30\n",
            "12750/12750 [==============================] - 0s 24us/sample - loss: 40373.0284 - root_mean_squared_error: 200.9304 - val_loss: 48616.5403 - val_root_mean_squared_error: 220.4916\n",
            "Epoch 2/30\n",
            "12750/12750 [==============================] - 0s 8us/sample - loss: 24384.6728 - root_mean_squared_error: 156.1559 - val_loss: 29101.2796 - val_root_mean_squared_error: 170.5910\n",
            "Epoch 3/30\n",
            "12750/12750 [==============================] - 0s 7us/sample - loss: 13593.7564 - root_mean_squared_error: 116.5923 - val_loss: 16030.0528 - val_root_mean_squared_error: 126.6098\n",
            "Epoch 4/30\n",
            "12750/12750 [==============================] - 0s 7us/sample - loss: 7964.7074 - root_mean_squared_error: 89.2452 - val_loss: 9429.5555 - val_root_mean_squared_error: 97.1059\n",
            "Epoch 5/30\n",
            "12750/12750 [==============================] - 0s 8us/sample - loss: 6636.2106 - root_mean_squared_error: 81.4629 - val_loss: 8493.4936 - val_root_mean_squared_error: 92.1601\n",
            "Epoch 6/30\n",
            "12750/12750 [==============================] - 0s 7us/sample - loss: 6615.5037 - root_mean_squared_error: 81.3357 - val_loss: 8454.9093 - val_root_mean_squared_error: 91.9506\n",
            "Epoch 7/30\n",
            "12750/12750 [==============================] - 0s 7us/sample - loss: 6614.5710 - root_mean_squared_error: 81.3300 - val_loss: 8492.1367 - val_root_mean_squared_error: 92.1528\n",
            "Epoch 8/30\n",
            "12750/12750 [==============================] - 0s 7us/sample - loss: 6613.4417 - root_mean_squared_error: 81.3231 - val_loss: 8361.7539 - val_root_mean_squared_error: 91.4426\n",
            "Epoch 9/30\n",
            "12750/12750 [==============================] - 0s 8us/sample - loss: 6613.8656 - root_mean_squared_error: 81.3257 - val_loss: 8348.6567 - val_root_mean_squared_error: 91.3710\n",
            "Epoch 10/30\n",
            "12750/12750 [==============================] - 0s 7us/sample - loss: 6614.3935 - root_mean_squared_error: 81.3289 - val_loss: 8430.0074 - val_root_mean_squared_error: 91.8151\n",
            "Epoch 11/30\n",
            "12750/12750 [==============================] - 0s 9us/sample - loss: 6614.8466 - root_mean_squared_error: 81.3317 - val_loss: 8341.4532 - val_root_mean_squared_error: 91.3316\n",
            "Epoch 12/30\n",
            "12750/12750 [==============================] - 0s 7us/sample - loss: 6614.7114 - root_mean_squared_error: 81.3309 - val_loss: 8373.6237 - val_root_mean_squared_error: 91.5075\n",
            "Epoch 13/30\n",
            "12750/12750 [==============================] - 0s 7us/sample - loss: 6613.2605 - root_mean_squared_error: 81.3220 - val_loss: 8466.6932 - val_root_mean_squared_error: 92.0146\n",
            "Epoch 14/30\n",
            "12750/12750 [==============================] - 0s 8us/sample - loss: 6613.6928 - root_mean_squared_error: 81.3246 - val_loss: 8324.6364 - val_root_mean_squared_error: 91.2394\n",
            "Epoch 15/30\n",
            "12750/12750 [==============================] - 0s 8us/sample - loss: 6614.5658 - root_mean_squared_error: 81.3300 - val_loss: 8365.5685 - val_root_mean_squared_error: 91.4635\n",
            "Epoch 16/30\n",
            "12750/12750 [==============================] - 0s 9us/sample - loss: 6615.3665 - root_mean_squared_error: 81.3349 - val_loss: 8395.0262 - val_root_mean_squared_error: 91.6244\n",
            "Epoch 17/30\n",
            "12750/12750 [==============================] - 0s 7us/sample - loss: 6614.2160 - root_mean_squared_error: 81.3278 - val_loss: 8341.7069 - val_root_mean_squared_error: 91.3329\n",
            "Epoch 18/30\n",
            "12750/12750 [==============================] - 0s 8us/sample - loss: 6614.6738 - root_mean_squared_error: 81.3307 - val_loss: 8363.9188 - val_root_mean_squared_error: 91.4545\n",
            "Epoch 19/30\n",
            "12750/12750 [==============================] - 0s 9us/sample - loss: 6614.6977 - root_mean_squared_error: 81.3308 - val_loss: 8353.4855 - val_root_mean_squared_error: 91.3974\n",
            "Epoch 20/30\n",
            "12750/12750 [==============================] - 0s 8us/sample - loss: 6612.7819 - root_mean_squared_error: 81.3190 - val_loss: 8292.4765 - val_root_mean_squared_error: 91.0630\n",
            "Epoch 21/30\n",
            "12750/12750 [==============================] - 0s 7us/sample - loss: 6614.6939 - root_mean_squared_error: 81.3308 - val_loss: 8357.8977 - val_root_mean_squared_error: 91.4215\n",
            "Epoch 22/30\n",
            "12750/12750 [==============================] - 0s 9us/sample - loss: 6614.8624 - root_mean_squared_error: 81.3318 - val_loss: 8421.7562 - val_root_mean_squared_error: 91.7701\n",
            "Epoch 23/30\n",
            "12750/12750 [==============================] - 0s 7us/sample - loss: 6614.4249 - root_mean_squared_error: 81.3291 - val_loss: 8414.9997 - val_root_mean_squared_error: 91.7333\n",
            "Epoch 24/30\n",
            "12750/12750 [==============================] - 0s 7us/sample - loss: 6614.4264 - root_mean_squared_error: 81.3291 - val_loss: 8366.9781 - val_root_mean_squared_error: 91.4712\n",
            "Epoch 25/30\n",
            "12750/12750 [==============================] - 0s 7us/sample - loss: 6613.5790 - root_mean_squared_error: 81.3239 - val_loss: 8506.4187 - val_root_mean_squared_error: 92.2302\n",
            "Epoch 26/30\n",
            "12750/12750 [==============================] - 0s 9us/sample - loss: 6615.1756 - root_mean_squared_error: 81.3337 - val_loss: 8414.7485 - val_root_mean_squared_error: 91.7319\n",
            "Epoch 27/30\n",
            "12750/12750 [==============================] - 0s 7us/sample - loss: 6613.5209 - root_mean_squared_error: 81.3235 - val_loss: 8367.6962 - val_root_mean_squared_error: 91.4751\n",
            "Epoch 28/30\n",
            "12750/12750 [==============================] - 0s 7us/sample - loss: 6616.0381 - root_mean_squared_error: 81.3390 - val_loss: 8438.6155 - val_root_mean_squared_error: 91.8619\n",
            "Epoch 29/30\n",
            "12750/12750 [==============================] - 0s 7us/sample - loss: 6613.8271 - root_mean_squared_error: 81.3254 - val_loss: 8360.2250 - val_root_mean_squared_error: 91.4343\n",
            "Epoch 30/30\n",
            "12750/12750 [==============================] - 0s 9us/sample - loss: 6615.1940 - root_mean_squared_error: 81.3339 - val_loss: 8544.4047 - val_root_mean_squared_error: 92.4359\n",
            "89.27196\n"
          ]
        },
        {
          "data": {
            "image/png": "[encoded data removed]",
            "text/plain": [
              "<Figure size 432x288 with 1 Axes>"
            ]
          },
          "metadata": {
            "needs_background": "light"
          },
          "output_type": "display_data"
        }
      ],
      "source": [
        "# The following variables are the hyperparameters.\n",
        "learning_rate = 0.08\n",
        "epochs = 30\n",
        "batch_size = 100\n",
        "\n",
        "# Split the original training set into a reduced training set and a\n",
        "# validation set. \n",
        "validation_split = 0.25\n",
        "\n",
        "# Identify the feature and the label.\n",
        "my_feature = \"median_income\"    # the median income on a specific city block.\n",
        "my_label = \"median_house_value\" # the median house value on a specific city block.\n",
        "# That is, you're going to create a model that predicts house value based \n",
        "# solely on the neighborhood's median income.  \n",
        "\n",
        "# Invoke the functions to build and train the model.\n",
        "my_model = build_model(learning_rate)\n",
        "epochs, rmse, history = train_model(my_model, train_df, my_feature, \n",
        "                                    my_label, epochs, batch_size, \n",
        "                                    validation_split)\n",
        "\n",
        "plot_the_loss_curve(epochs, history[\"root_mean_squared_error\"], \n",
        "                    history[\"val_root_mean_squared_error\"])"
      ]
    },
    {
      "cell_type": "markdown",
      "metadata": {
        "id": "TKa11JK4Pm3f"
      },
      "source": [
        "## Task 2: Determine **why** the loss curves differ\n",
        "\n",
        "No matter how you split the training set and the validation set, the loss curves differ significantly. Evidently, the data in the training set isn't similar enough to the data in the validation set. Counterintuitive? Yes, but this problem is actually pretty common in machine learning. \n",
        "\n",
        "Your task is to determine **why** the loss curves aren't highly similar. As with most issues in machine learning, the problem is rooted in the data itself. To solve this mystery of why the training set and validation set aren't almost identical, write a line or two of [pandas code](https://colab.research.google.com/github/google/eng-edu/blob/main/ml/cc/exercises/pandas_dataframe_ultraquick_tutorial.ipynb?utm_source=validation-colab&utm_medium=colab&utm_campaign=colab-external&utm_content=pandas_tf2-colab&hl=en) in the following code cell.  Here are a couple of hints:\n",
        "\n",
        "  * The previous code cell split the original training set into:\n",
        "    * a reduced training set (the original training set - the validation set)\n",
        "    * the validation set \n",
        "  * By default, the pandas [`head`](https://pandas.pydata.org/pandas-docs/stable/reference/api/pandas.DataFrame.head.html) method outputs the *first* 5 rows of the DataFrame. To see more of the training set, specify the `n` argument to `head` and assign a large positive integer to `n`."
      ]
    },
    {
      "cell_type": "code",
      "execution_count": 10,
      "metadata": {
        "id": "VJQcAZkwJt_p"
      },
      "outputs": [
        {
          "data": {
            "text/html": [
              "<div>\n",
              "<style scoped>\n",
              "    .dataframe tbody tr th:only-of-type {\n",
              "        vertical-align: middle;\n",
              "    }\n",
              "\n",
              "    .dataframe tbody tr th {\n",
              "        vertical-align: top;\n",
              "    }\n",
              "\n",
              "    .dataframe thead th {\n",
              "        text-align: right;\n",
              "    }\n",
              "</style>\n",
              "<table border=\"1\" class=\"dataframe\">\n",
              "  <thead>\n",
              "    <tr style=\"text-align: right;\">\n",
              "      <th></th>\n",
              "      <th>longitude</th>\n",
              "      <th>latitude</th>\n",
              "      <th>housing_median_age</th>\n",
              "      <th>total_rooms</th>\n",
              "      <th>total_bedrooms</th>\n",
              "      <th>population</th>\n",
              "      <th>households</th>\n",
              "      <th>median_income</th>\n",
              "      <th>median_house_value</th>\n",
              "    </tr>\n",
              "  </thead>\n",
              "  <tbody>\n",
              "    <tr>\n",
              "      <th>0</th>\n",
              "      <td>-114.3</td>\n",
              "      <td>34.2</td>\n",
              "      <td>15.0</td>\n",
              "      <td>5612.0</td>\n",
              "      <td>1283.0</td>\n",
              "      <td>1015.0</td>\n",
              "      <td>472.0</td>\n",
              "      <td>1.5</td>\n",
              "      <td>66.9</td>\n",
              "    </tr>\n",
              "    <tr>\n",
              "      <th>1</th>\n",
              "      <td>-114.5</td>\n",
              "      <td>34.4</td>\n",
              "      <td>19.0</td>\n",
              "      <td>7650.0</td>\n",
              "      <td>1901.0</td>\n",
              "      <td>1129.0</td>\n",
              "      <td>463.0</td>\n",
              "      <td>1.8</td>\n",
              "      <td>80.1</td>\n",
              "    </tr>\n",
              "    <tr>\n",
              "      <th>2</th>\n",
              "      <td>-114.6</td>\n",
              "      <td>33.7</td>\n",
              "      <td>17.0</td>\n",
              "      <td>720.0</td>\n",
              "      <td>174.0</td>\n",
              "      <td>333.0</td>\n",
              "      <td>117.0</td>\n",
              "      <td>1.7</td>\n",
              "      <td>85.7</td>\n",
              "    </tr>\n",
              "    <tr>\n",
              "      <th>3</th>\n",
              "      <td>-114.6</td>\n",
              "      <td>33.6</td>\n",
              "      <td>14.0</td>\n",
              "      <td>1501.0</td>\n",
              "      <td>337.0</td>\n",
              "      <td>515.0</td>\n",
              "      <td>226.0</td>\n",
              "      <td>3.2</td>\n",
              "      <td>73.4</td>\n",
              "    </tr>\n",
              "    <tr>\n",
              "      <th>4</th>\n",
              "      <td>-114.6</td>\n",
              "      <td>33.6</td>\n",
              "      <td>20.0</td>\n",
              "      <td>1454.0</td>\n",
              "      <td>326.0</td>\n",
              "      <td>624.0</td>\n",
              "      <td>262.0</td>\n",
              "      <td>1.9</td>\n",
              "      <td>65.5</td>\n",
              "    </tr>\n",
              "    <tr>\n",
              "      <th>5</th>\n",
              "      <td>-114.6</td>\n",
              "      <td>33.6</td>\n",
              "      <td>29.0</td>\n",
              "      <td>1387.0</td>\n",
              "      <td>236.0</td>\n",
              "      <td>671.0</td>\n",
              "      <td>239.0</td>\n",
              "      <td>3.3</td>\n",
              "      <td>74.0</td>\n",
              "    </tr>\n",
              "    <tr>\n",
              "      <th>6</th>\n",
              "      <td>-114.6</td>\n",
              "      <td>33.6</td>\n",
              "      <td>25.0</td>\n",
              "      <td>2907.0</td>\n",
              "      <td>680.0</td>\n",
              "      <td>1841.0</td>\n",
              "      <td>633.0</td>\n",
              "      <td>2.7</td>\n",
              "      <td>82.4</td>\n",
              "    </tr>\n",
              "    <tr>\n",
              "      <th>7</th>\n",
              "      <td>-114.6</td>\n",
              "      <td>34.8</td>\n",
              "      <td>41.0</td>\n",
              "      <td>812.0</td>\n",
              "      <td>168.0</td>\n",
              "      <td>375.0</td>\n",
              "      <td>158.0</td>\n",
              "      <td>1.7</td>\n",
              "      <td>48.5</td>\n",
              "    </tr>\n",
              "    <tr>\n",
              "      <th>8</th>\n",
              "      <td>-114.6</td>\n",
              "      <td>33.6</td>\n",
              "      <td>34.0</td>\n",
              "      <td>4789.0</td>\n",
              "      <td>1175.0</td>\n",
              "      <td>3134.0</td>\n",
              "      <td>1056.0</td>\n",
              "      <td>2.2</td>\n",
              "      <td>58.4</td>\n",
              "    </tr>\n",
              "    <tr>\n",
              "      <th>9</th>\n",
              "      <td>-114.6</td>\n",
              "      <td>34.8</td>\n",
              "      <td>46.0</td>\n",
              "      <td>1497.0</td>\n",
              "      <td>309.0</td>\n",
              "      <td>787.0</td>\n",
              "      <td>271.0</td>\n",
              "      <td>2.2</td>\n",
              "      <td>48.1</td>\n",
              "    </tr>\n",
              "  </tbody>\n",
              "</table>\n",
              "</div>"
            ],
            "text/plain": [
              "   longitude  latitude  housing_median_age  total_rooms  total_bedrooms  \\\n",
              "0     -114.3      34.2                15.0       5612.0          1283.0   \n",
              "1     -114.5      34.4                19.0       7650.0          1901.0   \n",
              "2     -114.6      33.7                17.0        720.0           174.0   \n",
              "3     -114.6      33.6                14.0       1501.0           337.0   \n",
              "4     -114.6      33.6                20.0       1454.0           326.0   \n",
              "5     -114.6      33.6                29.0       1387.0           236.0   \n",
              "6     -114.6      33.6                25.0       2907.0           680.0   \n",
              "7     -114.6      34.8                41.0        812.0           168.0   \n",
              "8     -114.6      33.6                34.0       4789.0          1175.0   \n",
              "9     -114.6      34.8                46.0       1497.0           309.0   \n",
              "\n",
              "   population  households  median_income  median_house_value  \n",
              "0      1015.0       472.0            1.5                66.9  \n",
              "1      1129.0       463.0            1.8                80.1  \n",
              "2       333.0       117.0            1.7                85.7  \n",
              "3       515.0       226.0            3.2                73.4  \n",
              "4       624.0       262.0            1.9                65.5  \n",
              "5       671.0       239.0            3.3                74.0  \n",
              "6      1841.0       633.0            2.7                82.4  \n",
              "7       375.0       158.0            1.7                48.5  \n",
              "8      3134.0      1056.0            2.2                58.4  \n",
              "9       787.0       271.0            2.2                48.1  "
            ]
          },
          "execution_count": 10,
          "metadata": {},
          "output_type": "execute_result"
        }
      ],
      "source": [
        "# Write some code in this code cell.\n",
        "train_df.head(10)"
      ]
    },
    {
      "cell_type": "code",
      "execution_count": null,
      "metadata": {
        "cellView": "form",
        "id": "EnNvkFwwK8WY"
      },
      "outputs": [],
      "source": [
        "#@title Double-click for a possible solution to Task 2.\n",
        "\n",
        "# Examine examples 0 through 4 and examples 25 through 29\n",
        "# of the training set\n",
        "train_df.head(n=1000)\n",
        "\n",
        "# The original training set is sorted by longitude. \n",
        "# Apparently, longitude influences the relationship of\n",
        "# total_rooms to median_house_value."
      ]
    },
    {
      "cell_type": "markdown",
      "metadata": {
        "id": "rw4xI1ZEckI8"
      },
      "source": [
        "## Task 3. Fix the problem\n",
        "\n",
        "To fix the problem, shuffle the examples in the training set before splitting the examples into a training set and validation set. To do so, take the following steps:\n",
        "\n",
        "1. Shuffle the data in the training set by adding the following line anywhere before you call `train_model` (in the code cell associated with Task 1):\n",
        "\n",
        "```\n",
        "  shuffled_train_df = train_df.reindex(np.random.permutation(train_df.index))\n",
        "```                                    \n",
        "\n",
        "2. Pass `shuffled_train_df` (instead of `train_df`) as the second argument to `train_model` (in the code call associated with Task 1) so that the call becomes as follows:\n",
        "\n",
        "```\n",
        "  epochs, rmse, history = train_model(my_model, shuffled_train_df, my_feature, \n",
        "                                      my_label, epochs, batch_size, \n",
        "                                      validation_split)\n",
        "```"
      ]
    },
    {
      "cell_type": "code",
      "execution_count": 11,
      "metadata": {
        "cellView": "form",
        "id": "ncODhpv0h-LG"
      },
      "outputs": [
        {
          "name": "stdout",
          "output_type": "stream",
          "text": [
            "WARNING:tensorflow:Falling back from v2 loop because of error: Failed to find data adapter that can handle input: <class 'pandas.core.series.Series'>, <class 'NoneType'>\n",
            "Train on 13600 samples, validate on 3400 samples\n",
            "Epoch 1/70\n",
            "13600/13600 [==============================] - 0s 21us/sample - loss: 42753.5868 - root_mean_squared_error: 206.7694 - val_loss: 33835.4840 - val_root_mean_squared_error: 183.9442\n",
            "Epoch 2/70\n",
            "13600/13600 [==============================] - 0s 7us/sample - loss: 24820.2338 - root_mean_squared_error: 157.5444 - val_loss: 18839.2468 - val_root_mean_squared_error: 137.2561\n",
            "Epoch 3/70\n",
            "13600/13600 [==============================] - 0s 7us/sample - loss: 13301.5063 - root_mean_squared_error: 115.3322 - val_loss: 10148.5720 - val_root_mean_squared_error: 100.7401\n",
            "Epoch 4/70\n",
            "13600/13600 [==============================] - 0s 7us/sample - loss: 7877.4655 - root_mean_squared_error: 88.7551 - val_loss: 7391.8638 - val_root_mean_squared_error: 85.9759\n",
            "Epoch 5/70\n",
            "13600/13600 [==============================] - 0s 8us/sample - loss: 6937.3981 - root_mean_squared_error: 83.2910 - val_loss: 7336.1985 - val_root_mean_squared_error: 85.6516\n",
            "Epoch 6/70\n",
            "13600/13600 [==============================] - 0s 8us/sample - loss: 6934.8948 - root_mean_squared_error: 83.2760 - val_loss: 7336.8412 - val_root_mean_squared_error: 85.6554\n",
            "Epoch 7/70\n",
            "13600/13600 [==============================] - 0s 9us/sample - loss: 6935.1190 - root_mean_squared_error: 83.2774 - val_loss: 7335.4340 - val_root_mean_squared_error: 85.6471\n",
            "Epoch 8/70\n",
            "13600/13600 [==============================] - 0s 7us/sample - loss: 6934.6820 - root_mean_squared_error: 83.2747 - val_loss: 7340.3625 - val_root_mean_squared_error: 85.6759\n",
            "Epoch 9/70\n",
            "13600/13600 [==============================] - 0s 8us/sample - loss: 6932.4277 - root_mean_squared_error: 83.2612 - val_loss: 7349.8301 - val_root_mean_squared_error: 85.7311\n",
            "Epoch 10/70\n",
            "13600/13600 [==============================] - 0s 7us/sample - loss: 6932.5069 - root_mean_squared_error: 83.2617 - val_loss: 7334.6711 - val_root_mean_squared_error: 85.6427\n",
            "Epoch 11/70\n",
            "13600/13600 [==============================] - 0s 7us/sample - loss: 6935.9553 - root_mean_squared_error: 83.2824 - val_loss: 7336.1463 - val_root_mean_squared_error: 85.6513\n",
            "Epoch 12/70\n",
            "13600/13600 [==============================] - 0s 7us/sample - loss: 6933.3281 - root_mean_squared_error: 83.2666 - val_loss: 7335.9422 - val_root_mean_squared_error: 85.6501\n",
            "Epoch 13/70\n",
            "13600/13600 [==============================] - 0s 7us/sample - loss: 6933.8594 - root_mean_squared_error: 83.2698 - val_loss: 7334.7130 - val_root_mean_squared_error: 85.6429\n",
            "Epoch 14/70\n",
            "13600/13600 [==============================] - 0s 7us/sample - loss: 6935.3555 - root_mean_squared_error: 83.2788 - val_loss: 7336.3399 - val_root_mean_squared_error: 85.6524\n",
            "Epoch 15/70\n",
            "13600/13600 [==============================] - 0s 7us/sample - loss: 6935.5110 - root_mean_squared_error: 83.2797 - val_loss: 7336.7532 - val_root_mean_squared_error: 85.6549\n",
            "Epoch 16/70\n",
            "13600/13600 [==============================] - 0s 8us/sample - loss: 6935.1631 - root_mean_squared_error: 83.2776 - val_loss: 7334.9916 - val_root_mean_squared_error: 85.6446\n",
            "Epoch 17/70\n",
            "13600/13600 [==============================] - 0s 9us/sample - loss: 6934.8856 - root_mean_squared_error: 83.2760 - val_loss: 7336.0793 - val_root_mean_squared_error: 85.6509\n",
            "Epoch 18/70\n",
            "13600/13600 [==============================] - 0s 7us/sample - loss: 6933.7464 - root_mean_squared_error: 83.2691 - val_loss: 7335.2841 - val_root_mean_squared_error: 85.6463\n",
            "Epoch 19/70\n",
            "13600/13600 [==============================] - 0s 7us/sample - loss: 6935.3180 - root_mean_squared_error: 83.2785 - val_loss: 7337.5780 - val_root_mean_squared_error: 85.6597\n",
            "Epoch 20/70\n",
            "13600/13600 [==============================] - 0s 7us/sample - loss: 6934.4587 - root_mean_squared_error: 83.2734 - val_loss: 7335.1194 - val_root_mean_squared_error: 85.6453\n",
            "Epoch 21/70\n",
            "13600/13600 [==============================] - 0s 8us/sample - loss: 6934.5513 - root_mean_squared_error: 83.2740 - val_loss: 7337.2200 - val_root_mean_squared_error: 85.6576\n",
            "Epoch 22/70\n",
            "13600/13600 [==============================] - 0s 8us/sample - loss: 6931.9390 - root_mean_squared_error: 83.2583 - val_loss: 7344.9236 - val_root_mean_squared_error: 85.7025\n",
            "Epoch 23/70\n",
            "13600/13600 [==============================] - 0s 7us/sample - loss: 6934.3824 - root_mean_squared_error: 83.2729 - val_loss: 7347.4415 - val_root_mean_squared_error: 85.7172\n",
            "Epoch 24/70\n",
            "13600/13600 [==============================] - 0s 7us/sample - loss: 6935.1461 - root_mean_squared_error: 83.2775 - val_loss: 7336.1157 - val_root_mean_squared_error: 85.6511\n",
            "Epoch 25/70\n",
            "13600/13600 [==============================] - 0s 7us/sample - loss: 6935.6596 - root_mean_squared_error: 83.2806 - val_loss: 7336.0398 - val_root_mean_squared_error: 85.6507\n",
            "Epoch 26/70\n",
            "13600/13600 [==============================] - 0s 7us/sample - loss: 6934.8299 - root_mean_squared_error: 83.2756 - val_loss: 7335.4324 - val_root_mean_squared_error: 85.6471\n",
            "Epoch 27/70\n",
            "13600/13600 [==============================] - 0s 7us/sample - loss: 6935.0201 - root_mean_squared_error: 83.2768 - val_loss: 7335.1313 - val_root_mean_squared_error: 85.6454\n",
            "Epoch 28/70\n",
            "13600/13600 [==============================] - 0s 7us/sample - loss: 6934.4895 - root_mean_squared_error: 83.2736 - val_loss: 7335.5767 - val_root_mean_squared_error: 85.6480\n",
            "Epoch 29/70\n",
            "13600/13600 [==============================] - 0s 9us/sample - loss: 6935.2130 - root_mean_squared_error: 83.2779 - val_loss: 7336.2317 - val_root_mean_squared_error: 85.6518\n",
            "Epoch 30/70\n",
            "13600/13600 [==============================] - 0s 7us/sample - loss: 6935.2903 - root_mean_squared_error: 83.2784 - val_loss: 7335.9217 - val_root_mean_squared_error: 85.6500\n",
            "Epoch 31/70\n",
            "13600/13600 [==============================] - 0s 7us/sample - loss: 6933.9812 - root_mean_squared_error: 83.2705 - val_loss: 7338.3264 - val_root_mean_squared_error: 85.6640\n",
            "Epoch 32/70\n",
            "13600/13600 [==============================] - 0s 7us/sample - loss: 6933.6749 - root_mean_squared_error: 83.2687 - val_loss: 7344.3030 - val_root_mean_squared_error: 85.6989\n",
            "Epoch 33/70\n",
            "13600/13600 [==============================] - 0s 7us/sample - loss: 6934.1977 - root_mean_squared_error: 83.2718 - val_loss: 7337.2575 - val_root_mean_squared_error: 85.6578\n",
            "Epoch 34/70\n",
            "13600/13600 [==============================] - 0s 7us/sample - loss: 6935.5634 - root_mean_squared_error: 83.2800 - val_loss: 7337.1843 - val_root_mean_squared_error: 85.6574\n",
            "Epoch 35/70\n",
            "13600/13600 [==============================] - 0s 7us/sample - loss: 6934.1835 - root_mean_squared_error: 83.2717 - val_loss: 7335.3893 - val_root_mean_squared_error: 85.6469\n",
            "Epoch 36/70\n",
            "13600/13600 [==============================] - 0s 9us/sample - loss: 6934.0546 - root_mean_squared_error: 83.2710 - val_loss: 7342.0345 - val_root_mean_squared_error: 85.6857\n",
            "Epoch 37/70\n",
            "13600/13600 [==============================] - 0s 7us/sample - loss: 6935.4260 - root_mean_squared_error: 83.2792 - val_loss: 7338.8314 - val_root_mean_squared_error: 85.6670\n",
            "Epoch 38/70\n",
            "13600/13600 [==============================] - 0s 7us/sample - loss: 6935.0848 - root_mean_squared_error: 83.2772 - val_loss: 7337.6589 - val_root_mean_squared_error: 85.6601\n",
            "Epoch 39/70\n",
            "13600/13600 [==============================] - 0s 7us/sample - loss: 6934.0647 - root_mean_squared_error: 83.2710 - val_loss: 7337.3152 - val_root_mean_squared_error: 85.6581\n",
            "Epoch 40/70\n",
            "13600/13600 [==============================] - 0s 9us/sample - loss: 6932.1466 - root_mean_squared_error: 83.2595 - val_loss: 7339.6053 - val_root_mean_squared_error: 85.6715\n",
            "Epoch 41/70\n",
            "13600/13600 [==============================] - 0s 7us/sample - loss: 6935.4773 - root_mean_squared_error: 83.2795 - val_loss: 7338.3260 - val_root_mean_squared_error: 85.6640\n",
            "Epoch 42/70\n",
            "13600/13600 [==============================] - 0s 7us/sample - loss: 6934.2168 - root_mean_squared_error: 83.2719 - val_loss: 7335.0429 - val_root_mean_squared_error: 85.6449\n",
            "Epoch 43/70\n",
            "13600/13600 [==============================] - 0s 9us/sample - loss: 6933.2477 - root_mean_squared_error: 83.2661 - val_loss: 7341.3965 - val_root_mean_squared_error: 85.6819\n",
            "Epoch 44/70\n",
            "13600/13600 [==============================] - 0s 7us/sample - loss: 6935.1837 - root_mean_squared_error: 83.2778 - val_loss: 7338.4404 - val_root_mean_squared_error: 85.6647\n",
            "Epoch 45/70\n",
            "13600/13600 [==============================] - 0s 7us/sample - loss: 6935.0293 - root_mean_squared_error: 83.2768 - val_loss: 7338.0087 - val_root_mean_squared_error: 85.6622\n",
            "Epoch 46/70\n",
            "13600/13600 [==============================] - 0s 7us/sample - loss: 6934.4655 - root_mean_squared_error: 83.2734 - val_loss: 7336.4100 - val_root_mean_squared_error: 85.6528\n",
            "Epoch 47/70\n",
            "13600/13600 [==============================] - 0s 9us/sample - loss: 6933.9040 - root_mean_squared_error: 83.2701 - val_loss: 7335.5457 - val_root_mean_squared_error: 85.6478\n",
            "Epoch 48/70\n",
            "13600/13600 [==============================] - 0s 7us/sample - loss: 6935.1873 - root_mean_squared_error: 83.2778 - val_loss: 7336.2965 - val_root_mean_squared_error: 85.6522\n",
            "Epoch 49/70\n",
            "13600/13600 [==============================] - 0s 7us/sample - loss: 6934.9028 - root_mean_squared_error: 83.2761 - val_loss: 7335.3286 - val_root_mean_squared_error: 85.6465\n",
            "Epoch 50/70\n",
            "13600/13600 [==============================] - 0s 7us/sample - loss: 6934.6018 - root_mean_squared_error: 83.2742 - val_loss: 7335.2687 - val_root_mean_squared_error: 85.6462\n",
            "Epoch 51/70\n",
            "13600/13600 [==============================] - 0s 9us/sample - loss: 6934.4062 - root_mean_squared_error: 83.2731 - val_loss: 7334.8804 - val_root_mean_squared_error: 85.6439\n",
            "Epoch 52/70\n",
            "13600/13600 [==============================] - 0s 7us/sample - loss: 6935.0105 - root_mean_squared_error: 83.2767 - val_loss: 7334.7242 - val_root_mean_squared_error: 85.6430\n",
            "Epoch 53/70\n",
            "13600/13600 [==============================] - 0s 7us/sample - loss: 6934.7145 - root_mean_squared_error: 83.2749 - val_loss: 7335.2715 - val_root_mean_squared_error: 85.6462\n",
            "Epoch 54/70\n",
            "13600/13600 [==============================] - 0s 8us/sample - loss: 6935.1241 - root_mean_squared_error: 83.2774 - val_loss: 7336.2601 - val_root_mean_squared_error: 85.6520\n",
            "Epoch 55/70\n",
            "13600/13600 [==============================] - 0s 7us/sample - loss: 6931.6071 - root_mean_squared_error: 83.2563 - val_loss: 7334.6729 - val_root_mean_squared_error: 85.6427\n",
            "Epoch 56/70\n",
            "13600/13600 [==============================] - 0s 7us/sample - loss: 6935.2660 - root_mean_squared_error: 83.2783 - val_loss: 7337.1947 - val_root_mean_squared_error: 85.6574\n",
            "Epoch 57/70\n",
            "13600/13600 [==============================] - 0s 7us/sample - loss: 6932.9320 - root_mean_squared_error: 83.2642 - val_loss: 7337.6439 - val_root_mean_squared_error: 85.6600\n",
            "Epoch 58/70\n",
            "13600/13600 [==============================] - 0s 8us/sample - loss: 6934.5227 - root_mean_squared_error: 83.2738 - val_loss: 7337.3664 - val_root_mean_squared_error: 85.6584\n",
            "Epoch 59/70\n",
            "13600/13600 [==============================] - 0s 7us/sample - loss: 6934.4767 - root_mean_squared_error: 83.2735 - val_loss: 7340.0733 - val_root_mean_squared_error: 85.6742\n",
            "Epoch 60/70\n",
            "13600/13600 [==============================] - 0s 7us/sample - loss: 6934.8071 - root_mean_squared_error: 83.2755 - val_loss: 7342.5390 - val_root_mean_squared_error: 85.6886\n",
            "Epoch 61/70\n",
            "13600/13600 [==============================] - 0s 7us/sample - loss: 6935.4875 - root_mean_squared_error: 83.2796 - val_loss: 7338.2897 - val_root_mean_squared_error: 85.6638\n",
            "Epoch 62/70\n",
            "13600/13600 [==============================] - 0s 8us/sample - loss: 6935.1814 - root_mean_squared_error: 83.2777 - val_loss: 7335.8720 - val_root_mean_squared_error: 85.6497\n",
            "Epoch 63/70\n",
            "13600/13600 [==============================] - 0s 7us/sample - loss: 6934.8271 - root_mean_squared_error: 83.2756 - val_loss: 7340.3708 - val_root_mean_squared_error: 85.6760\n",
            "Epoch 64/70\n",
            "13600/13600 [==============================] - 0s 7us/sample - loss: 6935.4989 - root_mean_squared_error: 83.2796 - val_loss: 7338.1032 - val_root_mean_squared_error: 85.6627\n",
            "Epoch 65/70\n",
            "13600/13600 [==============================] - 0s 7us/sample - loss: 6935.0924 - root_mean_squared_error: 83.2772 - val_loss: 7335.0552 - val_root_mean_squared_error: 85.6449\n",
            "Epoch 66/70\n",
            "13600/13600 [==============================] - 0s 9us/sample - loss: 6934.8437 - root_mean_squared_error: 83.2757 - val_loss: 7335.2787 - val_root_mean_squared_error: 85.6462\n",
            "Epoch 67/70\n",
            "13600/13600 [==============================] - 0s 7us/sample - loss: 6934.8879 - root_mean_squared_error: 83.2760 - val_loss: 7338.3813 - val_root_mean_squared_error: 85.6644\n",
            "Epoch 68/70\n",
            "13600/13600 [==============================] - 0s 7us/sample - loss: 6932.1088 - root_mean_squared_error: 83.2593 - val_loss: 7348.1127 - val_root_mean_squared_error: 85.7211\n",
            "Epoch 69/70\n",
            "13600/13600 [==============================] - 0s 8us/sample - loss: 6931.7561 - root_mean_squared_error: 83.2572 - val_loss: 7338.3782 - val_root_mean_squared_error: 85.6643\n",
            "Epoch 70/70\n",
            "13600/13600 [==============================] - 0s 8us/sample - loss: 6935.8484 - root_mean_squared_error: 83.2817 - val_loss: 7336.5508 - val_root_mean_squared_error: 85.6537\n",
            "74.288124\n"
          ]
        },
        {
          "data": {
            "image/png": "[encoded data removed]",
            "text/plain": [
              "<Figure size 432x288 with 1 Axes>"
            ]
          },
          "metadata": {
            "needs_background": "light"
          },
          "output_type": "display_data"
        }
      ],
      "source": [
        "#@title Double-click to view the complete implementation.\n",
        "\n",
        "# The following variables are the hyperparameters.\n",
        "learning_rate = 0.08\n",
        "epochs = 70\n",
        "batch_size = 100\n",
        "\n",
        "# Split the original training set into a reduced training set and a\n",
        "# validation set. \n",
        "validation_split = 0.2\n",
        "\n",
        "# Identify the feature and the label.\n",
        "my_feature = \"median_income\"    # the median income on a specific city block.\n",
        "my_label = \"median_house_value\" # the median house value on a specific city block.\n",
        "# That is, you're going to create a model that predicts house value based \n",
        "# solely on the neighborhood's median income.  \n",
        "\n",
        "# Shuffle the examples.\n",
        "shuffled_train_df = train_df.reindex(np.random.permutation(train_df.index)) \n",
        "\n",
        "# Invoke the functions to build and train the model. Train on the shuffled\n",
        "# training set.\n",
        "my_model = build_model(learning_rate)\n",
        "epochs, rmse, history = train_model(my_model, shuffled_train_df, my_feature, \n",
        "                                    my_label, epochs, batch_size, \n",
        "                                    validation_split)\n",
        "\n",
        "plot_the_loss_curve(epochs, history[\"root_mean_squared_error\"], \n",
        "                    history[\"val_root_mean_squared_error\"])"
      ]
    },
    {
      "cell_type": "markdown",
      "metadata": {
        "id": "tKN239_miW8C"
      },
      "source": [
        "Experiment with `validation_split` to answer the following questions:\n",
        "\n",
        "* With the training set shuffled, is the final loss for the training set closer to the final loss for the validation set?  \n",
        "* At what range of values of `validation_split` do the final loss values for the training set and validation set diverge meaningfully?  Why?"
      ]
    },
    {
      "cell_type": "markdown",
      "metadata": {
        "cellView": "form",
        "id": "-UAJ3Q86iz31"
      },
      "source": [
        "- Yes, after shuffling the original training set, the final loss for the training set and the validation set become much closer.\n",
        "- If validation_split < 0.15, the final loss values for the training set and validation set diverge meaningfully.\n",
        "- Apparently, the validation set no longer contains enough examples. "
      ]
    },
    {
      "cell_type": "markdown",
      "metadata": {
        "id": "1PP-O8TOZOeo"
      },
      "source": [
        "## Task 4: Use the Test Dataset to Evaluate Your Model's Performance\n",
        "\n",
        "The test set usually acts as the ultimate judge of a model's quality. The test set can serve as an impartial judge because its examples haven't been used in training the model. Run the following code cell to evaluate the model with the test set:"
      ]
    },
    {
      "cell_type": "code",
      "execution_count": 13,
      "metadata": {
        "id": "nd_Sw2cygOip"
      },
      "outputs": [
        {
          "name": "stdout",
          "output_type": "stream",
          "text": [
            "WARNING:tensorflow:Falling back from v2 loop because of error: Failed to find data adapter that can handle input: <class 'pandas.core.series.Series'>, <class 'NoneType'>\n",
            "3000/3000 [==============================] - 0s 6us/sample - loss: 7014.3990 - root_mean_squared_error: 83.7520\n"
          ]
        }
      ],
      "source": [
        "x_test = test_df[my_feature]\n",
        "y_test = test_df[my_label]\n",
        "\n",
        "results = my_model.evaluate(x_test, y_test, batch_size=batch_size)"
      ]
    },
    {
      "cell_type": "markdown",
      "metadata": {
        "id": "qoyQKvsjmV_A"
      },
      "source": [
        "Compare the root mean squared error of the model when evaluated on each of the three datasets:\n",
        "\n",
        "* training set: look for `root_mean_squared_error` in the final training epoch.\n",
        "* validation set: look for `val_root_mean_squared_error` in the final training epoch.\n",
        "* test set: run the preceding code cell and examine the `root_mean_squared_error`.\n",
        "\n",
        "Ideally, the root mean squared error of all three sets should be similar. Are they?"
      ]
    },
    {
      "cell_type": "markdown",
      "metadata": {
        "cellView": "form",
        "id": "FxXtp-aVdIgJ"
      },
      "source": [
        "In our experiments, yes, the rmse values \n",
        "were similar enough. "
      ]
    },
    {
      "cell_type": "markdown",
      "metadata": {},
      "source": []
    }
  ],
  "metadata": {
    "colab": {
      "collapsed_sections": [],
      "name": "Validation and Test Sets.ipynb",
      "private_outputs": true,
      "provenance": []
    },
    "kernelspec": {
      "display_name": "Python 3.7.13 ('mlcc')",
      "language": "python",
      "name": "python3"
    },
    "language_info": {
      "codemirror_mode": {
        "name": "ipython",
        "version": 3
      },
      "file_extension": ".py",
      "mimetype": "text/x-python",
      "name": "python",
      "nbconvert_exporter": "python",
      "pygments_lexer": "ipython3",
      "version": "3.7.13"
    },
    "vscode": {
      "interpreter": {
        "hash": "727c57ac6800266dd18610c18de39761533321bf1125973422a50634cf79a39e"
      }
    }
  },
  "nbformat": 4,
  "nbformat_minor": 0
}
